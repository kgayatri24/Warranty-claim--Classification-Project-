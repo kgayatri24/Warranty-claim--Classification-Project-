{
 "cells": [
  {
   "cell_type": "markdown",
   "metadata": {},
   "source": [
    "### Models with unscaled data (Decision Tree & Random Forest)\n"
   ]
  },
  {
   "cell_type": "code",
   "execution_count": 1,
   "metadata": {},
   "outputs": [],
   "source": [
    "import pandas as pd\n",
    "import numpy as np\n",
    "import warnings as wn\n",
    "wn.filterwarnings('ignore')\n"
   ]
  },
  {
   "cell_type": "code",
   "execution_count": 2,
   "metadata": {},
   "outputs": [
    {
     "data": {
      "text/html": [
       "<div>\n",
       "<style scoped>\n",
       "    .dataframe tbody tr th:only-of-type {\n",
       "        vertical-align: middle;\n",
       "    }\n",
       "\n",
       "    .dataframe tbody tr th {\n",
       "        vertical-align: top;\n",
       "    }\n",
       "\n",
       "    .dataframe thead th {\n",
       "        text-align: right;\n",
       "    }\n",
       "</style>\n",
       "<table border=\"1\" class=\"dataframe\">\n",
       "  <thead>\n",
       "    <tr style=\"text-align: right;\">\n",
       "      <th></th>\n",
       "      <th>Unnamed: 0</th>\n",
       "      <th>Region_East</th>\n",
       "      <th>Region_North</th>\n",
       "      <th>Region_North East</th>\n",
       "      <th>Region_North West</th>\n",
       "      <th>Region_South</th>\n",
       "      <th>Region_South East</th>\n",
       "      <th>Region_South West</th>\n",
       "      <th>Region_West</th>\n",
       "      <th>State_Andhra Pradesh</th>\n",
       "      <th>...</th>\n",
       "      <th>TV_2001_Issue</th>\n",
       "      <th>TV_2002_Issue</th>\n",
       "      <th>TV_2003_Issue</th>\n",
       "      <th>Claim_Value</th>\n",
       "      <th>Service_Centre</th>\n",
       "      <th>Product_Age</th>\n",
       "      <th>Purchased_from</th>\n",
       "      <th>Call_details</th>\n",
       "      <th>Purpose</th>\n",
       "      <th>Fraud</th>\n",
       "    </tr>\n",
       "  </thead>\n",
       "  <tbody>\n",
       "    <tr>\n",
       "      <th>0</th>\n",
       "      <td>0</td>\n",
       "      <td>0</td>\n",
       "      <td>0</td>\n",
       "      <td>0</td>\n",
       "      <td>0</td>\n",
       "      <td>1</td>\n",
       "      <td>0</td>\n",
       "      <td>0</td>\n",
       "      <td>0</td>\n",
       "      <td>0</td>\n",
       "      <td>...</td>\n",
       "      <td>1</td>\n",
       "      <td>2</td>\n",
       "      <td>0</td>\n",
       "      <td>15000.0</td>\n",
       "      <td>10</td>\n",
       "      <td>60.0</td>\n",
       "      <td>2</td>\n",
       "      <td>0.5</td>\n",
       "      <td>1</td>\n",
       "      <td>1</td>\n",
       "    </tr>\n",
       "    <tr>\n",
       "      <th>1</th>\n",
       "      <td>1</td>\n",
       "      <td>0</td>\n",
       "      <td>0</td>\n",
       "      <td>0</td>\n",
       "      <td>0</td>\n",
       "      <td>1</td>\n",
       "      <td>0</td>\n",
       "      <td>0</td>\n",
       "      <td>0</td>\n",
       "      <td>0</td>\n",
       "      <td>...</td>\n",
       "      <td>0</td>\n",
       "      <td>0</td>\n",
       "      <td>0</td>\n",
       "      <td>20000.0</td>\n",
       "      <td>12</td>\n",
       "      <td>10.0</td>\n",
       "      <td>0</td>\n",
       "      <td>1.0</td>\n",
       "      <td>1</td>\n",
       "      <td>0</td>\n",
       "    </tr>\n",
       "    <tr>\n",
       "      <th>2</th>\n",
       "      <td>2</td>\n",
       "      <td>0</td>\n",
       "      <td>1</td>\n",
       "      <td>0</td>\n",
       "      <td>0</td>\n",
       "      <td>0</td>\n",
       "      <td>0</td>\n",
       "      <td>0</td>\n",
       "      <td>0</td>\n",
       "      <td>0</td>\n",
       "      <td>...</td>\n",
       "      <td>0</td>\n",
       "      <td>0</td>\n",
       "      <td>0</td>\n",
       "      <td>18000.0</td>\n",
       "      <td>14</td>\n",
       "      <td>10.0</td>\n",
       "      <td>0</td>\n",
       "      <td>1.4</td>\n",
       "      <td>0</td>\n",
       "      <td>0</td>\n",
       "    </tr>\n",
       "    <tr>\n",
       "      <th>3</th>\n",
       "      <td>3</td>\n",
       "      <td>0</td>\n",
       "      <td>0</td>\n",
       "      <td>0</td>\n",
       "      <td>0</td>\n",
       "      <td>1</td>\n",
       "      <td>0</td>\n",
       "      <td>0</td>\n",
       "      <td>0</td>\n",
       "      <td>0</td>\n",
       "      <td>...</td>\n",
       "      <td>1</td>\n",
       "      <td>1</td>\n",
       "      <td>0</td>\n",
       "      <td>12000.0</td>\n",
       "      <td>16</td>\n",
       "      <td>20.0</td>\n",
       "      <td>2</td>\n",
       "      <td>2.0</td>\n",
       "      <td>1</td>\n",
       "      <td>0</td>\n",
       "    </tr>\n",
       "    <tr>\n",
       "      <th>4</th>\n",
       "      <td>4</td>\n",
       "      <td>0</td>\n",
       "      <td>0</td>\n",
       "      <td>1</td>\n",
       "      <td>0</td>\n",
       "      <td>0</td>\n",
       "      <td>0</td>\n",
       "      <td>0</td>\n",
       "      <td>0</td>\n",
       "      <td>0</td>\n",
       "      <td>...</td>\n",
       "      <td>0</td>\n",
       "      <td>1</td>\n",
       "      <td>2</td>\n",
       "      <td>25000.0</td>\n",
       "      <td>15</td>\n",
       "      <td>6.0</td>\n",
       "      <td>0</td>\n",
       "      <td>1.3</td>\n",
       "      <td>0</td>\n",
       "      <td>0</td>\n",
       "    </tr>\n",
       "  </tbody>\n",
       "</table>\n",
       "<p>5 rows × 73 columns</p>\n",
       "</div>"
      ],
      "text/plain": [
       "   Unnamed: 0  Region_East  Region_North  Region_North East  \\\n",
       "0           0            0             0                  0   \n",
       "1           1            0             0                  0   \n",
       "2           2            0             1                  0   \n",
       "3           3            0             0                  0   \n",
       "4           4            0             0                  1   \n",
       "\n",
       "   Region_North West  Region_South  Region_South East  Region_South West  \\\n",
       "0                  0             1                  0                  0   \n",
       "1                  0             1                  0                  0   \n",
       "2                  0             0                  0                  0   \n",
       "3                  0             1                  0                  0   \n",
       "4                  0             0                  0                  0   \n",
       "\n",
       "   Region_West  State_Andhra Pradesh  ...  TV_2001_Issue  TV_2002_Issue  \\\n",
       "0            0                     0  ...              1              2   \n",
       "1            0                     0  ...              0              0   \n",
       "2            0                     0  ...              0              0   \n",
       "3            0                     0  ...              1              1   \n",
       "4            0                     0  ...              0              1   \n",
       "\n",
       "   TV_2003_Issue  Claim_Value  Service_Centre  Product_Age  Purchased_from  \\\n",
       "0              0      15000.0              10         60.0               2   \n",
       "1              0      20000.0              12         10.0               0   \n",
       "2              0      18000.0              14         10.0               0   \n",
       "3              0      12000.0              16         20.0               2   \n",
       "4              2      25000.0              15          6.0               0   \n",
       "\n",
       "   Call_details  Purpose  Fraud  \n",
       "0           0.5        1      1  \n",
       "1           1.0        1      0  \n",
       "2           1.4        0      0  \n",
       "3           2.0        1      0  \n",
       "4           1.3        0      0  \n",
       "\n",
       "[5 rows x 73 columns]"
      ]
     },
     "execution_count": 2,
     "metadata": {},
     "output_type": "execute_result"
    }
   ],
   "source": [
    "df=pd.read_csv(\"C:\\\\Users\\\\ADMIN\\\\Desktop\\\\Project\\\\df_us.csv\")\n",
    "df.head()\n"
   ]
  },
  {
   "cell_type": "code",
   "execution_count": 3,
   "metadata": {},
   "outputs": [
    {
     "data": {
      "text/html": [
       "<div>\n",
       "<style scoped>\n",
       "    .dataframe tbody tr th:only-of-type {\n",
       "        vertical-align: middle;\n",
       "    }\n",
       "\n",
       "    .dataframe tbody tr th {\n",
       "        vertical-align: top;\n",
       "    }\n",
       "\n",
       "    .dataframe thead th {\n",
       "        text-align: right;\n",
       "    }\n",
       "</style>\n",
       "<table border=\"1\" class=\"dataframe\">\n",
       "  <thead>\n",
       "    <tr style=\"text-align: right;\">\n",
       "      <th></th>\n",
       "      <th>Region_East</th>\n",
       "      <th>Region_North</th>\n",
       "      <th>Region_North East</th>\n",
       "      <th>Region_North West</th>\n",
       "      <th>Region_South</th>\n",
       "      <th>Region_South East</th>\n",
       "      <th>Region_South West</th>\n",
       "      <th>Region_West</th>\n",
       "      <th>State_Andhra Pradesh</th>\n",
       "      <th>State_Assam</th>\n",
       "      <th>...</th>\n",
       "      <th>TV_2001_Issue</th>\n",
       "      <th>TV_2002_Issue</th>\n",
       "      <th>TV_2003_Issue</th>\n",
       "      <th>Claim_Value</th>\n",
       "      <th>Service_Centre</th>\n",
       "      <th>Product_Age</th>\n",
       "      <th>Purchased_from</th>\n",
       "      <th>Call_details</th>\n",
       "      <th>Purpose</th>\n",
       "      <th>Fraud</th>\n",
       "    </tr>\n",
       "  </thead>\n",
       "  <tbody>\n",
       "    <tr>\n",
       "      <th>0</th>\n",
       "      <td>0</td>\n",
       "      <td>0</td>\n",
       "      <td>0</td>\n",
       "      <td>0</td>\n",
       "      <td>1</td>\n",
       "      <td>0</td>\n",
       "      <td>0</td>\n",
       "      <td>0</td>\n",
       "      <td>0</td>\n",
       "      <td>0</td>\n",
       "      <td>...</td>\n",
       "      <td>1</td>\n",
       "      <td>2</td>\n",
       "      <td>0</td>\n",
       "      <td>15000.0</td>\n",
       "      <td>10</td>\n",
       "      <td>60.0</td>\n",
       "      <td>2</td>\n",
       "      <td>0.5</td>\n",
       "      <td>1</td>\n",
       "      <td>1</td>\n",
       "    </tr>\n",
       "    <tr>\n",
       "      <th>1</th>\n",
       "      <td>0</td>\n",
       "      <td>0</td>\n",
       "      <td>0</td>\n",
       "      <td>0</td>\n",
       "      <td>1</td>\n",
       "      <td>0</td>\n",
       "      <td>0</td>\n",
       "      <td>0</td>\n",
       "      <td>0</td>\n",
       "      <td>0</td>\n",
       "      <td>...</td>\n",
       "      <td>0</td>\n",
       "      <td>0</td>\n",
       "      <td>0</td>\n",
       "      <td>20000.0</td>\n",
       "      <td>12</td>\n",
       "      <td>10.0</td>\n",
       "      <td>0</td>\n",
       "      <td>1.0</td>\n",
       "      <td>1</td>\n",
       "      <td>0</td>\n",
       "    </tr>\n",
       "    <tr>\n",
       "      <th>2</th>\n",
       "      <td>0</td>\n",
       "      <td>1</td>\n",
       "      <td>0</td>\n",
       "      <td>0</td>\n",
       "      <td>0</td>\n",
       "      <td>0</td>\n",
       "      <td>0</td>\n",
       "      <td>0</td>\n",
       "      <td>0</td>\n",
       "      <td>0</td>\n",
       "      <td>...</td>\n",
       "      <td>0</td>\n",
       "      <td>0</td>\n",
       "      <td>0</td>\n",
       "      <td>18000.0</td>\n",
       "      <td>14</td>\n",
       "      <td>10.0</td>\n",
       "      <td>0</td>\n",
       "      <td>1.4</td>\n",
       "      <td>0</td>\n",
       "      <td>0</td>\n",
       "    </tr>\n",
       "    <tr>\n",
       "      <th>3</th>\n",
       "      <td>0</td>\n",
       "      <td>0</td>\n",
       "      <td>0</td>\n",
       "      <td>0</td>\n",
       "      <td>1</td>\n",
       "      <td>0</td>\n",
       "      <td>0</td>\n",
       "      <td>0</td>\n",
       "      <td>0</td>\n",
       "      <td>0</td>\n",
       "      <td>...</td>\n",
       "      <td>1</td>\n",
       "      <td>1</td>\n",
       "      <td>0</td>\n",
       "      <td>12000.0</td>\n",
       "      <td>16</td>\n",
       "      <td>20.0</td>\n",
       "      <td>2</td>\n",
       "      <td>2.0</td>\n",
       "      <td>1</td>\n",
       "      <td>0</td>\n",
       "    </tr>\n",
       "    <tr>\n",
       "      <th>4</th>\n",
       "      <td>0</td>\n",
       "      <td>0</td>\n",
       "      <td>1</td>\n",
       "      <td>0</td>\n",
       "      <td>0</td>\n",
       "      <td>0</td>\n",
       "      <td>0</td>\n",
       "      <td>0</td>\n",
       "      <td>0</td>\n",
       "      <td>0</td>\n",
       "      <td>...</td>\n",
       "      <td>0</td>\n",
       "      <td>1</td>\n",
       "      <td>2</td>\n",
       "      <td>25000.0</td>\n",
       "      <td>15</td>\n",
       "      <td>6.0</td>\n",
       "      <td>0</td>\n",
       "      <td>1.3</td>\n",
       "      <td>0</td>\n",
       "      <td>0</td>\n",
       "    </tr>\n",
       "  </tbody>\n",
       "</table>\n",
       "<p>5 rows × 72 columns</p>\n",
       "</div>"
      ],
      "text/plain": [
       "   Region_East  Region_North  Region_North East  Region_North West  \\\n",
       "0            0             0                  0                  0   \n",
       "1            0             0                  0                  0   \n",
       "2            0             1                  0                  0   \n",
       "3            0             0                  0                  0   \n",
       "4            0             0                  1                  0   \n",
       "\n",
       "   Region_South  Region_South East  Region_South West  Region_West  \\\n",
       "0             1                  0                  0            0   \n",
       "1             1                  0                  0            0   \n",
       "2             0                  0                  0            0   \n",
       "3             1                  0                  0            0   \n",
       "4             0                  0                  0            0   \n",
       "\n",
       "   State_Andhra Pradesh  State_Assam  ...  TV_2001_Issue  TV_2002_Issue  \\\n",
       "0                     0            0  ...              1              2   \n",
       "1                     0            0  ...              0              0   \n",
       "2                     0            0  ...              0              0   \n",
       "3                     0            0  ...              1              1   \n",
       "4                     0            0  ...              0              1   \n",
       "\n",
       "   TV_2003_Issue  Claim_Value  Service_Centre  Product_Age  Purchased_from  \\\n",
       "0              0      15000.0              10         60.0               2   \n",
       "1              0      20000.0              12         10.0               0   \n",
       "2              0      18000.0              14         10.0               0   \n",
       "3              0      12000.0              16         20.0               2   \n",
       "4              2      25000.0              15          6.0               0   \n",
       "\n",
       "   Call_details  Purpose  Fraud  \n",
       "0           0.5        1      1  \n",
       "1           1.0        1      0  \n",
       "2           1.4        0      0  \n",
       "3           2.0        1      0  \n",
       "4           1.3        0      0  \n",
       "\n",
       "[5 rows x 72 columns]"
      ]
     },
     "execution_count": 3,
     "metadata": {},
     "output_type": "execute_result"
    }
   ],
   "source": [
    "\n",
    "df=df.drop(df.columns[0], axis = 1) \n",
    "df.head()"
   ]
  },
  {
   "cell_type": "code",
   "execution_count": 4,
   "metadata": {},
   "outputs": [],
   "source": [
    "x=df.iloc[:,0:71]\n",
    "y=df.iloc[:,-1]\n"
   ]
  },
  {
   "cell_type": "markdown",
   "metadata": {},
   "source": [
    "# Handeling imbalanced data"
   ]
  },
  {
   "cell_type": "code",
   "execution_count": 5,
   "metadata": {},
   "outputs": [],
   "source": [
    "# we are checking fraud and non fraud entries\n",
    "fraud=df[df[\"Fraud\"]==1]\n",
    "non_fraud=df[df[\"Fraud\"]==0]"
   ]
  },
  {
   "cell_type": "code",
   "execution_count": 6,
   "metadata": {},
   "outputs": [
    {
     "data": {
      "text/plain": [
       "((35, 72), (323, 72))"
      ]
     },
     "execution_count": 6,
     "metadata": {},
     "output_type": "execute_result"
    }
   ],
   "source": [
    "# here we get total no of fraud and non fraud entries \n",
    "# from here it is clear that data is imbalanced\n",
    "(fraud.shape, non_fraud.shape)"
   ]
  },
  {
   "cell_type": "code",
   "execution_count": 7,
   "metadata": {},
   "outputs": [],
   "source": [
    "from imblearn.over_sampling import SMOTE"
   ]
  },
  {
   "cell_type": "code",
   "execution_count": 8,
   "metadata": {},
   "outputs": [],
   "source": [
    "# implimenting SMOTE for handlling imbalanced data\n",
    "smt=SMOTE(random_state=40)\n",
    "x_res, y_res=smt.fit_resample(x,y)"
   ]
  },
  {
   "cell_type": "code",
   "execution_count": 9,
   "metadata": {},
   "outputs": [
    {
     "data": {
      "text/plain": [
       "((646, 71), (646,))"
      ]
     },
     "execution_count": 9,
     "metadata": {},
     "output_type": "execute_result"
    }
   ],
   "source": [
    "(x_res.shape, y_res.shape)"
   ]
  },
  {
   "cell_type": "markdown",
   "metadata": {},
   "source": [
    "# Data frame of Balanced data"
   ]
  },
  {
   "cell_type": "code",
   "execution_count": 10,
   "metadata": {},
   "outputs": [
    {
     "data": {
      "text/html": [
       "<div>\n",
       "<style scoped>\n",
       "    .dataframe tbody tr th:only-of-type {\n",
       "        vertical-align: middle;\n",
       "    }\n",
       "\n",
       "    .dataframe tbody tr th {\n",
       "        vertical-align: top;\n",
       "    }\n",
       "\n",
       "    .dataframe thead th {\n",
       "        text-align: right;\n",
       "    }\n",
       "</style>\n",
       "<table border=\"1\" class=\"dataframe\">\n",
       "  <thead>\n",
       "    <tr style=\"text-align: right;\">\n",
       "      <th></th>\n",
       "      <th>Region_East</th>\n",
       "      <th>Region_North</th>\n",
       "      <th>Region_North East</th>\n",
       "      <th>Region_North West</th>\n",
       "      <th>Region_South</th>\n",
       "      <th>Region_South East</th>\n",
       "      <th>Region_South West</th>\n",
       "      <th>Region_West</th>\n",
       "      <th>State_Andhra Pradesh</th>\n",
       "      <th>State_Assam</th>\n",
       "      <th>...</th>\n",
       "      <th>TV_2001_Issue</th>\n",
       "      <th>TV_2002_Issue</th>\n",
       "      <th>TV_2003_Issue</th>\n",
       "      <th>Claim_Value</th>\n",
       "      <th>Service_Centre</th>\n",
       "      <th>Product_Age</th>\n",
       "      <th>Purchased_from</th>\n",
       "      <th>Call_details</th>\n",
       "      <th>Purpose</th>\n",
       "      <th>Fraud</th>\n",
       "    </tr>\n",
       "  </thead>\n",
       "  <tbody>\n",
       "    <tr>\n",
       "      <th>0</th>\n",
       "      <td>0</td>\n",
       "      <td>0</td>\n",
       "      <td>0</td>\n",
       "      <td>0</td>\n",
       "      <td>1</td>\n",
       "      <td>0</td>\n",
       "      <td>0</td>\n",
       "      <td>0</td>\n",
       "      <td>0</td>\n",
       "      <td>0</td>\n",
       "      <td>...</td>\n",
       "      <td>1</td>\n",
       "      <td>2</td>\n",
       "      <td>0</td>\n",
       "      <td>15000.0</td>\n",
       "      <td>10</td>\n",
       "      <td>60.0</td>\n",
       "      <td>2</td>\n",
       "      <td>0.5</td>\n",
       "      <td>1</td>\n",
       "      <td>1</td>\n",
       "    </tr>\n",
       "    <tr>\n",
       "      <th>1</th>\n",
       "      <td>0</td>\n",
       "      <td>0</td>\n",
       "      <td>0</td>\n",
       "      <td>0</td>\n",
       "      <td>1</td>\n",
       "      <td>0</td>\n",
       "      <td>0</td>\n",
       "      <td>0</td>\n",
       "      <td>0</td>\n",
       "      <td>0</td>\n",
       "      <td>...</td>\n",
       "      <td>0</td>\n",
       "      <td>0</td>\n",
       "      <td>0</td>\n",
       "      <td>20000.0</td>\n",
       "      <td>12</td>\n",
       "      <td>10.0</td>\n",
       "      <td>0</td>\n",
       "      <td>1.0</td>\n",
       "      <td>1</td>\n",
       "      <td>0</td>\n",
       "    </tr>\n",
       "    <tr>\n",
       "      <th>2</th>\n",
       "      <td>0</td>\n",
       "      <td>1</td>\n",
       "      <td>0</td>\n",
       "      <td>0</td>\n",
       "      <td>0</td>\n",
       "      <td>0</td>\n",
       "      <td>0</td>\n",
       "      <td>0</td>\n",
       "      <td>0</td>\n",
       "      <td>0</td>\n",
       "      <td>...</td>\n",
       "      <td>0</td>\n",
       "      <td>0</td>\n",
       "      <td>0</td>\n",
       "      <td>18000.0</td>\n",
       "      <td>14</td>\n",
       "      <td>10.0</td>\n",
       "      <td>0</td>\n",
       "      <td>1.4</td>\n",
       "      <td>0</td>\n",
       "      <td>0</td>\n",
       "    </tr>\n",
       "    <tr>\n",
       "      <th>3</th>\n",
       "      <td>0</td>\n",
       "      <td>0</td>\n",
       "      <td>0</td>\n",
       "      <td>0</td>\n",
       "      <td>1</td>\n",
       "      <td>0</td>\n",
       "      <td>0</td>\n",
       "      <td>0</td>\n",
       "      <td>0</td>\n",
       "      <td>0</td>\n",
       "      <td>...</td>\n",
       "      <td>1</td>\n",
       "      <td>1</td>\n",
       "      <td>0</td>\n",
       "      <td>12000.0</td>\n",
       "      <td>16</td>\n",
       "      <td>20.0</td>\n",
       "      <td>2</td>\n",
       "      <td>2.0</td>\n",
       "      <td>1</td>\n",
       "      <td>0</td>\n",
       "    </tr>\n",
       "    <tr>\n",
       "      <th>4</th>\n",
       "      <td>0</td>\n",
       "      <td>0</td>\n",
       "      <td>1</td>\n",
       "      <td>0</td>\n",
       "      <td>0</td>\n",
       "      <td>0</td>\n",
       "      <td>0</td>\n",
       "      <td>0</td>\n",
       "      <td>0</td>\n",
       "      <td>0</td>\n",
       "      <td>...</td>\n",
       "      <td>0</td>\n",
       "      <td>1</td>\n",
       "      <td>2</td>\n",
       "      <td>25000.0</td>\n",
       "      <td>15</td>\n",
       "      <td>6.0</td>\n",
       "      <td>0</td>\n",
       "      <td>1.3</td>\n",
       "      <td>0</td>\n",
       "      <td>0</td>\n",
       "    </tr>\n",
       "  </tbody>\n",
       "</table>\n",
       "<p>5 rows × 72 columns</p>\n",
       "</div>"
      ],
      "text/plain": [
       "   Region_East  Region_North  Region_North East  Region_North West  \\\n",
       "0            0             0                  0                  0   \n",
       "1            0             0                  0                  0   \n",
       "2            0             1                  0                  0   \n",
       "3            0             0                  0                  0   \n",
       "4            0             0                  1                  0   \n",
       "\n",
       "   Region_South  Region_South East  Region_South West  Region_West  \\\n",
       "0             1                  0                  0            0   \n",
       "1             1                  0                  0            0   \n",
       "2             0                  0                  0            0   \n",
       "3             1                  0                  0            0   \n",
       "4             0                  0                  0            0   \n",
       "\n",
       "   State_Andhra Pradesh  State_Assam  ...  TV_2001_Issue  TV_2002_Issue  \\\n",
       "0                     0            0  ...              1              2   \n",
       "1                     0            0  ...              0              0   \n",
       "2                     0            0  ...              0              0   \n",
       "3                     0            0  ...              1              1   \n",
       "4                     0            0  ...              0              1   \n",
       "\n",
       "   TV_2003_Issue  Claim_Value  Service_Centre  Product_Age  Purchased_from  \\\n",
       "0              0      15000.0              10         60.0               2   \n",
       "1              0      20000.0              12         10.0               0   \n",
       "2              0      18000.0              14         10.0               0   \n",
       "3              0      12000.0              16         20.0               2   \n",
       "4              2      25000.0              15          6.0               0   \n",
       "\n",
       "   Call_details  Purpose  Fraud  \n",
       "0           0.5        1      1  \n",
       "1           1.0        1      0  \n",
       "2           1.4        0      0  \n",
       "3           2.0        1      0  \n",
       "4           1.3        0      0  \n",
       "\n",
       "[5 rows x 72 columns]"
      ]
     },
     "execution_count": 10,
     "metadata": {},
     "output_type": "execute_result"
    }
   ],
   "source": [
    "smote_df=pd.concat([x_res,y_res], axis=1)\n",
    "smote_df.head()"
   ]
  },
  {
   "cell_type": "code",
   "execution_count": 11,
   "metadata": {},
   "outputs": [
    {
     "data": {
      "text/plain": [
       "(646, 72)"
      ]
     },
     "execution_count": 11,
     "metadata": {},
     "output_type": "execute_result"
    }
   ],
   "source": [
    "smote_df.shape"
   ]
  },
  {
   "cell_type": "code",
   "execution_count": 12,
   "metadata": {},
   "outputs": [
    {
     "data": {
      "text/plain": [
       "1    323\n",
       "0    323\n",
       "Name: Fraud, dtype: int64"
      ]
     },
     "execution_count": 12,
     "metadata": {},
     "output_type": "execute_result"
    }
   ],
   "source": [
    "smote_df[\"Fraud\"].value_counts()"
   ]
  },
  {
   "cell_type": "code",
   "execution_count": 48,
   "metadata": {},
   "outputs": [
    {
     "data": {
      "text/plain": [
       "2"
      ]
     },
     "execution_count": 48,
     "metadata": {},
     "output_type": "execute_result"
    }
   ],
   "source": [
    "smote_df[\"City_Hyderabad\"].nunique()"
   ]
  },
  {
   "cell_type": "code",
   "execution_count": 50,
   "metadata": {},
   "outputs": [
    {
     "data": {
      "text/plain": [
       "Region_East            2\n",
       "Region_North           2\n",
       "Region_North East      2\n",
       "Region_North West      2\n",
       "Region_South           2\n",
       "                    ... \n",
       "Product_Age          432\n",
       "Purchased_from         3\n",
       "Call_details         272\n",
       "Purpose                3\n",
       "Fraud                  2\n",
       "Length: 72, dtype: int64"
      ]
     },
     "execution_count": 50,
     "metadata": {},
     "output_type": "execute_result"
    }
   ],
   "source": [
    "smote_df.nunique()"
   ]
  },
  {
   "cell_type": "markdown",
   "metadata": {},
   "source": [
    "## Feature selection with Recursive Feature Elimination"
   ]
  },
  {
   "cell_type": "code",
   "execution_count": 13,
   "metadata": {},
   "outputs": [],
   "source": [
    "X=smote_df.iloc[:,0:71]\n",
    "Y=smote_df.iloc[:,-1]"
   ]
  },
  {
   "cell_type": "code",
   "execution_count": 14,
   "metadata": {},
   "outputs": [
    {
     "data": {
      "text/plain": [
       "Index(['Region_North', 'Region_North East', 'Region_North West',\n",
       "       'Region_South', 'Region_South East', 'Region_South West', 'Region_West',\n",
       "       'State_Andhra Pradesh', 'State_Bihar', 'State_Delhi', 'State_Goa',\n",
       "       'State_Jharkhand', 'State_Karnataka', 'State_Kerala', 'State_Orissa',\n",
       "       'State_Rajasthan', 'State_Tamil Nadu', 'State_Uttar Pradesh',\n",
       "       'State_West Bengal', 'City_Ahmedabad', 'City_Bangalore',\n",
       "       'City_Bhubaneswar', 'City_Chennai', 'City_Delhi', 'City_Hyderabad',\n",
       "       'City_Jaipur', 'City_Kochi', 'City_Kolkata', 'City_Mumbai',\n",
       "       'City_New Delhi', 'City_Panaji', 'City_Patna', 'City_Ranchi',\n",
       "       'City_Vadodara', 'City_Vijayawada', 'Consumer_profile',\n",
       "       'Product_category', 'Product_type', 'Purchased_from', 'Purpose'],\n",
       "      dtype='object')"
      ]
     },
     "execution_count": 14,
     "metadata": {},
     "output_type": "execute_result"
    }
   ],
   "source": [
    "from sklearn.feature_selection import RFE\n",
    "from sklearn.linear_model import LogisticRegression\n",
    "\n",
    "\n",
    "\n",
    "\n",
    "# feature extraction\n",
    "model = LogisticRegression()\n",
    "rfe = RFE(model,n_features_to_select=40, step=1 )\n",
    "fit = rfe.fit(X, Y)\n",
    "sel_feature_rfe=fit.get_support()\n",
    "\n",
    "selected_features_rfe=X.columns[sel_feature_rfe]\n",
    "selected_features_rfe"
   ]
  },
  {
   "cell_type": "code",
   "execution_count": 15,
   "metadata": {},
   "outputs": [
    {
     "data": {
      "text/plain": [
       "40"
      ]
     },
     "execution_count": 15,
     "metadata": {},
     "output_type": "execute_result"
    }
   ],
   "source": [
    "\n",
    "len(selected_features_rfe)"
   ]
  },
  {
   "cell_type": "code",
   "execution_count": null,
   "metadata": {},
   "outputs": [],
   "source": []
  },
  {
   "cell_type": "code",
   "execution_count": 16,
   "metadata": {},
   "outputs": [
    {
     "data": {
      "text/html": [
       "<div>\n",
       "<style scoped>\n",
       "    .dataframe tbody tr th:only-of-type {\n",
       "        vertical-align: middle;\n",
       "    }\n",
       "\n",
       "    .dataframe tbody tr th {\n",
       "        vertical-align: top;\n",
       "    }\n",
       "\n",
       "    .dataframe thead th {\n",
       "        text-align: right;\n",
       "    }\n",
       "</style>\n",
       "<table border=\"1\" class=\"dataframe\">\n",
       "  <thead>\n",
       "    <tr style=\"text-align: right;\">\n",
       "      <th></th>\n",
       "      <th>Region_North</th>\n",
       "      <th>Region_North East</th>\n",
       "      <th>Region_North West</th>\n",
       "      <th>Region_South</th>\n",
       "      <th>Region_South East</th>\n",
       "      <th>Region_South West</th>\n",
       "      <th>Region_West</th>\n",
       "      <th>State_Andhra Pradesh</th>\n",
       "      <th>State_Bihar</th>\n",
       "      <th>State_Delhi</th>\n",
       "      <th>...</th>\n",
       "      <th>City_Panaji</th>\n",
       "      <th>City_Patna</th>\n",
       "      <th>City_Ranchi</th>\n",
       "      <th>City_Vadodara</th>\n",
       "      <th>City_Vijayawada</th>\n",
       "      <th>Consumer_profile</th>\n",
       "      <th>Product_category</th>\n",
       "      <th>Product_type</th>\n",
       "      <th>Purchased_from</th>\n",
       "      <th>Purpose</th>\n",
       "    </tr>\n",
       "  </thead>\n",
       "  <tbody>\n",
       "    <tr>\n",
       "      <th>0</th>\n",
       "      <td>0</td>\n",
       "      <td>0</td>\n",
       "      <td>0</td>\n",
       "      <td>1</td>\n",
       "      <td>0</td>\n",
       "      <td>0</td>\n",
       "      <td>0</td>\n",
       "      <td>0</td>\n",
       "      <td>0</td>\n",
       "      <td>0</td>\n",
       "      <td>...</td>\n",
       "      <td>0</td>\n",
       "      <td>0</td>\n",
       "      <td>0</td>\n",
       "      <td>0</td>\n",
       "      <td>0</td>\n",
       "      <td>0</td>\n",
       "      <td>0</td>\n",
       "      <td>1</td>\n",
       "      <td>2</td>\n",
       "      <td>1</td>\n",
       "    </tr>\n",
       "    <tr>\n",
       "      <th>1</th>\n",
       "      <td>0</td>\n",
       "      <td>0</td>\n",
       "      <td>0</td>\n",
       "      <td>1</td>\n",
       "      <td>0</td>\n",
       "      <td>0</td>\n",
       "      <td>0</td>\n",
       "      <td>0</td>\n",
       "      <td>0</td>\n",
       "      <td>0</td>\n",
       "      <td>...</td>\n",
       "      <td>0</td>\n",
       "      <td>0</td>\n",
       "      <td>0</td>\n",
       "      <td>0</td>\n",
       "      <td>0</td>\n",
       "      <td>0</td>\n",
       "      <td>1</td>\n",
       "      <td>0</td>\n",
       "      <td>0</td>\n",
       "      <td>1</td>\n",
       "    </tr>\n",
       "  </tbody>\n",
       "</table>\n",
       "<p>2 rows × 40 columns</p>\n",
       "</div>"
      ],
      "text/plain": [
       "   Region_North  Region_North East  Region_North West  Region_South  \\\n",
       "0             0                  0                  0             1   \n",
       "1             0                  0                  0             1   \n",
       "\n",
       "   Region_South East  Region_South West  Region_West  State_Andhra Pradesh  \\\n",
       "0                  0                  0            0                     0   \n",
       "1                  0                  0            0                     0   \n",
       "\n",
       "   State_Bihar  State_Delhi  ...  City_Panaji  City_Patna  City_Ranchi  \\\n",
       "0            0            0  ...            0           0            0   \n",
       "1            0            0  ...            0           0            0   \n",
       "\n",
       "   City_Vadodara  City_Vijayawada  Consumer_profile  Product_category  \\\n",
       "0              0                0                 0                 0   \n",
       "1              0                0                 0                 1   \n",
       "\n",
       "   Product_type  Purchased_from  Purpose  \n",
       "0             1               2        1  \n",
       "1             0               0        1  \n",
       "\n",
       "[2 rows x 40 columns]"
      ]
     },
     "execution_count": 16,
     "metadata": {},
     "output_type": "execute_result"
    }
   ],
   "source": [
    "data_rfe=pd.DataFrame(smote_df[selected_features_rfe])\n",
    "data_rfe.head(2)"
   ]
  },
  {
   "cell_type": "code",
   "execution_count": 17,
   "metadata": {},
   "outputs": [
    {
     "data": {
      "text/html": [
       "<div>\n",
       "<style scoped>\n",
       "    .dataframe tbody tr th:only-of-type {\n",
       "        vertical-align: middle;\n",
       "    }\n",
       "\n",
       "    .dataframe tbody tr th {\n",
       "        vertical-align: top;\n",
       "    }\n",
       "\n",
       "    .dataframe thead th {\n",
       "        text-align: right;\n",
       "    }\n",
       "</style>\n",
       "<table border=\"1\" class=\"dataframe\">\n",
       "  <thead>\n",
       "    <tr style=\"text-align: right;\">\n",
       "      <th></th>\n",
       "      <th>Region_North</th>\n",
       "      <th>Region_North East</th>\n",
       "      <th>Region_North West</th>\n",
       "      <th>Region_South</th>\n",
       "      <th>Region_South East</th>\n",
       "      <th>Region_South West</th>\n",
       "      <th>Region_West</th>\n",
       "      <th>State_Andhra Pradesh</th>\n",
       "      <th>State_Bihar</th>\n",
       "      <th>State_Delhi</th>\n",
       "      <th>...</th>\n",
       "      <th>City_Patna</th>\n",
       "      <th>City_Ranchi</th>\n",
       "      <th>City_Vadodara</th>\n",
       "      <th>City_Vijayawada</th>\n",
       "      <th>Consumer_profile</th>\n",
       "      <th>Product_category</th>\n",
       "      <th>Product_type</th>\n",
       "      <th>Purchased_from</th>\n",
       "      <th>Purpose</th>\n",
       "      <th>Fraud</th>\n",
       "    </tr>\n",
       "  </thead>\n",
       "  <tbody>\n",
       "    <tr>\n",
       "      <th>0</th>\n",
       "      <td>0</td>\n",
       "      <td>0</td>\n",
       "      <td>0</td>\n",
       "      <td>1</td>\n",
       "      <td>0</td>\n",
       "      <td>0</td>\n",
       "      <td>0</td>\n",
       "      <td>0</td>\n",
       "      <td>0</td>\n",
       "      <td>0</td>\n",
       "      <td>...</td>\n",
       "      <td>0</td>\n",
       "      <td>0</td>\n",
       "      <td>0</td>\n",
       "      <td>0</td>\n",
       "      <td>0</td>\n",
       "      <td>0</td>\n",
       "      <td>1</td>\n",
       "      <td>2</td>\n",
       "      <td>1</td>\n",
       "      <td>1</td>\n",
       "    </tr>\n",
       "    <tr>\n",
       "      <th>1</th>\n",
       "      <td>0</td>\n",
       "      <td>0</td>\n",
       "      <td>0</td>\n",
       "      <td>1</td>\n",
       "      <td>0</td>\n",
       "      <td>0</td>\n",
       "      <td>0</td>\n",
       "      <td>0</td>\n",
       "      <td>0</td>\n",
       "      <td>0</td>\n",
       "      <td>...</td>\n",
       "      <td>0</td>\n",
       "      <td>0</td>\n",
       "      <td>0</td>\n",
       "      <td>0</td>\n",
       "      <td>0</td>\n",
       "      <td>1</td>\n",
       "      <td>0</td>\n",
       "      <td>0</td>\n",
       "      <td>1</td>\n",
       "      <td>0</td>\n",
       "    </tr>\n",
       "  </tbody>\n",
       "</table>\n",
       "<p>2 rows × 41 columns</p>\n",
       "</div>"
      ],
      "text/plain": [
       "   Region_North  Region_North East  Region_North West  Region_South  \\\n",
       "0             0                  0                  0             1   \n",
       "1             0                  0                  0             1   \n",
       "\n",
       "   Region_South East  Region_South West  Region_West  State_Andhra Pradesh  \\\n",
       "0                  0                  0            0                     0   \n",
       "1                  0                  0            0                     0   \n",
       "\n",
       "   State_Bihar  State_Delhi  ...  City_Patna  City_Ranchi  City_Vadodara  \\\n",
       "0            0            0  ...           0            0              0   \n",
       "1            0            0  ...           0            0              0   \n",
       "\n",
       "   City_Vijayawada  Consumer_profile  Product_category  Product_type  \\\n",
       "0                0                 0                 0             1   \n",
       "1                0                 0                 1             0   \n",
       "\n",
       "   Purchased_from  Purpose  Fraud  \n",
       "0               2        1      1  \n",
       "1               0        1      0  \n",
       "\n",
       "[2 rows x 41 columns]"
      ]
     },
     "execution_count": 17,
     "metadata": {},
     "output_type": "execute_result"
    }
   ],
   "source": [
    "dataset=pd.concat([data_rfe,smote_df[\"Fraud\"]], axis=1)\n",
    "dataset.head(2)"
   ]
  },
  {
   "cell_type": "markdown",
   "metadata": {},
   "source": [
    "##### Declairation of x and y of selected feature by using RFE  "
   ]
  },
  {
   "cell_type": "code",
   "execution_count": 18,
   "metadata": {},
   "outputs": [],
   "source": [
    "x1=dataset.iloc[:,0:40]\n",
    "y1=dataset.iloc[:,-1]\n"
   ]
  },
  {
   "cell_type": "markdown",
   "metadata": {},
   "source": [
    "### Feature Selection by using Lasso method"
   ]
  },
  {
   "cell_type": "code",
   "execution_count": 19,
   "metadata": {},
   "outputs": [],
   "source": [
    "from sklearn.linear_model import Lasso\n",
    "from sklearn.feature_selection import SelectFromModel"
   ]
  },
  {
   "cell_type": "code",
   "execution_count": 20,
   "metadata": {},
   "outputs": [
    {
     "data": {
      "text/plain": [
       "SelectFromModel(estimator=Lasso(alpha=0.003, random_state=0))"
      ]
     },
     "execution_count": 20,
     "metadata": {},
     "output_type": "execute_result"
    }
   ],
   "source": [
    "## First I specify the Lasso regression model\n",
    "## then i select a suitable alpha (equivalent of penelty)\n",
    "## then i use selectfrom model from sklearn so as to select the features with non-zero coefficients\n",
    "feature_select_model=SelectFromModel(Lasso(alpha=0.003, random_state=0))\n",
    "feature_select_model.fit(X, Y)"
   ]
  },
  {
   "cell_type": "code",
   "execution_count": 21,
   "metadata": {},
   "outputs": [
    {
     "data": {
      "text/plain": [
       "Index(['Region_East', 'Region_North', 'Region_North East', 'Region_North West',\n",
       "       'Region_South', 'Region_South East', 'Region_South West', 'Region_West',\n",
       "       'State_Andhra Pradesh', 'State_Bihar', 'State_Delhi', 'State_Karnataka',\n",
       "       'State_Kerala', 'State_Maharashtra', 'State_Orissa', 'State_Tamil Nadu',\n",
       "       'State_West Bengal', 'City_Ahmedabad', 'City_Bangalore',\n",
       "       'City_Bhubaneswar', 'City_Chennai', 'City_Hyderabad', 'City_Kochi',\n",
       "       'City_Kolkata', 'City_Mumbai', 'City_Vadodara', 'Area',\n",
       "       'Consumer_profile', 'Product_category', 'Product_type', 'AC_1001_Issue',\n",
       "       'AC_1002_Issue', 'AC_1003_Issue', 'TV_2001_Issue', 'TV_2002_Issue',\n",
       "       'TV_2003_Issue', 'Service_Centre', 'Product_Age', 'Purchased_from',\n",
       "       'Call_details', 'Purpose'],\n",
       "      dtype='object')"
      ]
     },
     "execution_count": 21,
     "metadata": {},
     "output_type": "execute_result"
    }
   ],
   "source": [
    "## List of selected features\n",
    "selected_features=X.columns[feature_select_model.get_support()]\n",
    "selected_features"
   ]
  },
  {
   "cell_type": "code",
   "execution_count": 22,
   "metadata": {},
   "outputs": [
    {
     "data": {
      "text/plain": [
       "41"
      ]
     },
     "execution_count": 22,
     "metadata": {},
     "output_type": "execute_result"
    }
   ],
   "source": [
    "len(selected_features)"
   ]
  },
  {
   "cell_type": "code",
   "execution_count": 23,
   "metadata": {},
   "outputs": [
    {
     "data": {
      "text/html": [
       "<div>\n",
       "<style scoped>\n",
       "    .dataframe tbody tr th:only-of-type {\n",
       "        vertical-align: middle;\n",
       "    }\n",
       "\n",
       "    .dataframe tbody tr th {\n",
       "        vertical-align: top;\n",
       "    }\n",
       "\n",
       "    .dataframe thead th {\n",
       "        text-align: right;\n",
       "    }\n",
       "</style>\n",
       "<table border=\"1\" class=\"dataframe\">\n",
       "  <thead>\n",
       "    <tr style=\"text-align: right;\">\n",
       "      <th></th>\n",
       "      <th>Region_East</th>\n",
       "      <th>Region_North</th>\n",
       "      <th>Region_North East</th>\n",
       "      <th>Region_North West</th>\n",
       "      <th>Region_South</th>\n",
       "      <th>Region_South East</th>\n",
       "      <th>Region_South West</th>\n",
       "      <th>Region_West</th>\n",
       "      <th>State_Andhra Pradesh</th>\n",
       "      <th>State_Bihar</th>\n",
       "      <th>...</th>\n",
       "      <th>AC_1002_Issue</th>\n",
       "      <th>AC_1003_Issue</th>\n",
       "      <th>TV_2001_Issue</th>\n",
       "      <th>TV_2002_Issue</th>\n",
       "      <th>TV_2003_Issue</th>\n",
       "      <th>Service_Centre</th>\n",
       "      <th>Product_Age</th>\n",
       "      <th>Purchased_from</th>\n",
       "      <th>Call_details</th>\n",
       "      <th>Purpose</th>\n",
       "    </tr>\n",
       "  </thead>\n",
       "  <tbody>\n",
       "    <tr>\n",
       "      <th>0</th>\n",
       "      <td>0</td>\n",
       "      <td>0</td>\n",
       "      <td>0</td>\n",
       "      <td>0</td>\n",
       "      <td>1</td>\n",
       "      <td>0</td>\n",
       "      <td>0</td>\n",
       "      <td>0</td>\n",
       "      <td>0</td>\n",
       "      <td>0</td>\n",
       "      <td>...</td>\n",
       "      <td>0</td>\n",
       "      <td>0</td>\n",
       "      <td>1</td>\n",
       "      <td>2</td>\n",
       "      <td>0</td>\n",
       "      <td>10</td>\n",
       "      <td>60.0</td>\n",
       "      <td>2</td>\n",
       "      <td>0.5</td>\n",
       "      <td>1</td>\n",
       "    </tr>\n",
       "    <tr>\n",
       "      <th>1</th>\n",
       "      <td>0</td>\n",
       "      <td>0</td>\n",
       "      <td>0</td>\n",
       "      <td>0</td>\n",
       "      <td>1</td>\n",
       "      <td>0</td>\n",
       "      <td>0</td>\n",
       "      <td>0</td>\n",
       "      <td>0</td>\n",
       "      <td>0</td>\n",
       "      <td>...</td>\n",
       "      <td>1</td>\n",
       "      <td>0</td>\n",
       "      <td>0</td>\n",
       "      <td>0</td>\n",
       "      <td>0</td>\n",
       "      <td>12</td>\n",
       "      <td>10.0</td>\n",
       "      <td>0</td>\n",
       "      <td>1.0</td>\n",
       "      <td>1</td>\n",
       "    </tr>\n",
       "  </tbody>\n",
       "</table>\n",
       "<p>2 rows × 41 columns</p>\n",
       "</div>"
      ],
      "text/plain": [
       "   Region_East  Region_North  Region_North East  Region_North West  \\\n",
       "0            0             0                  0                  0   \n",
       "1            0             0                  0                  0   \n",
       "\n",
       "   Region_South  Region_South East  Region_South West  Region_West  \\\n",
       "0             1                  0                  0            0   \n",
       "1             1                  0                  0            0   \n",
       "\n",
       "   State_Andhra Pradesh  State_Bihar  ...  AC_1002_Issue  AC_1003_Issue  \\\n",
       "0                     0            0  ...              0              0   \n",
       "1                     0            0  ...              1              0   \n",
       "\n",
       "   TV_2001_Issue  TV_2002_Issue  TV_2003_Issue  Service_Centre  Product_Age  \\\n",
       "0              1              2              0              10         60.0   \n",
       "1              0              0              0              12         10.0   \n",
       "\n",
       "   Purchased_from  Call_details  Purpose  \n",
       "0               2           0.5        1  \n",
       "1               0           1.0        1  \n",
       "\n",
       "[2 rows x 41 columns]"
      ]
     },
     "execution_count": 23,
     "metadata": {},
     "output_type": "execute_result"
    }
   ],
   "source": [
    "data5=pd.DataFrame(smote_df[selected_features])\n",
    "data5.head(2)"
   ]
  },
  {
   "cell_type": "code",
   "execution_count": 24,
   "metadata": {},
   "outputs": [
    {
     "data": {
      "text/plain": [
       "(646, 41)"
      ]
     },
     "execution_count": 24,
     "metadata": {},
     "output_type": "execute_result"
    }
   ],
   "source": [
    "data5.shape"
   ]
  },
  {
   "cell_type": "code",
   "execution_count": 25,
   "metadata": {},
   "outputs": [
    {
     "data": {
      "text/html": [
       "<div>\n",
       "<style scoped>\n",
       "    .dataframe tbody tr th:only-of-type {\n",
       "        vertical-align: middle;\n",
       "    }\n",
       "\n",
       "    .dataframe tbody tr th {\n",
       "        vertical-align: top;\n",
       "    }\n",
       "\n",
       "    .dataframe thead th {\n",
       "        text-align: right;\n",
       "    }\n",
       "</style>\n",
       "<table border=\"1\" class=\"dataframe\">\n",
       "  <thead>\n",
       "    <tr style=\"text-align: right;\">\n",
       "      <th></th>\n",
       "      <th>Region_East</th>\n",
       "      <th>Region_North</th>\n",
       "      <th>Region_North East</th>\n",
       "      <th>Region_North West</th>\n",
       "      <th>Region_South</th>\n",
       "      <th>Region_South East</th>\n",
       "      <th>Region_South West</th>\n",
       "      <th>Region_West</th>\n",
       "      <th>State_Andhra Pradesh</th>\n",
       "      <th>State_Bihar</th>\n",
       "      <th>...</th>\n",
       "      <th>AC_1003_Issue</th>\n",
       "      <th>TV_2001_Issue</th>\n",
       "      <th>TV_2002_Issue</th>\n",
       "      <th>TV_2003_Issue</th>\n",
       "      <th>Service_Centre</th>\n",
       "      <th>Product_Age</th>\n",
       "      <th>Purchased_from</th>\n",
       "      <th>Call_details</th>\n",
       "      <th>Purpose</th>\n",
       "      <th>Fraud</th>\n",
       "    </tr>\n",
       "  </thead>\n",
       "  <tbody>\n",
       "    <tr>\n",
       "      <th>0</th>\n",
       "      <td>0</td>\n",
       "      <td>0</td>\n",
       "      <td>0</td>\n",
       "      <td>0</td>\n",
       "      <td>1</td>\n",
       "      <td>0</td>\n",
       "      <td>0</td>\n",
       "      <td>0</td>\n",
       "      <td>0</td>\n",
       "      <td>0</td>\n",
       "      <td>...</td>\n",
       "      <td>0</td>\n",
       "      <td>1</td>\n",
       "      <td>2</td>\n",
       "      <td>0</td>\n",
       "      <td>10</td>\n",
       "      <td>60.0</td>\n",
       "      <td>2</td>\n",
       "      <td>0.5</td>\n",
       "      <td>1</td>\n",
       "      <td>1</td>\n",
       "    </tr>\n",
       "    <tr>\n",
       "      <th>1</th>\n",
       "      <td>0</td>\n",
       "      <td>0</td>\n",
       "      <td>0</td>\n",
       "      <td>0</td>\n",
       "      <td>1</td>\n",
       "      <td>0</td>\n",
       "      <td>0</td>\n",
       "      <td>0</td>\n",
       "      <td>0</td>\n",
       "      <td>0</td>\n",
       "      <td>...</td>\n",
       "      <td>0</td>\n",
       "      <td>0</td>\n",
       "      <td>0</td>\n",
       "      <td>0</td>\n",
       "      <td>12</td>\n",
       "      <td>10.0</td>\n",
       "      <td>0</td>\n",
       "      <td>1.0</td>\n",
       "      <td>1</td>\n",
       "      <td>0</td>\n",
       "    </tr>\n",
       "  </tbody>\n",
       "</table>\n",
       "<p>2 rows × 42 columns</p>\n",
       "</div>"
      ],
      "text/plain": [
       "   Region_East  Region_North  Region_North East  Region_North West  \\\n",
       "0            0             0                  0                  0   \n",
       "1            0             0                  0                  0   \n",
       "\n",
       "   Region_South  Region_South East  Region_South West  Region_West  \\\n",
       "0             1                  0                  0            0   \n",
       "1             1                  0                  0            0   \n",
       "\n",
       "   State_Andhra Pradesh  State_Bihar  ...  AC_1003_Issue  TV_2001_Issue  \\\n",
       "0                     0            0  ...              0              1   \n",
       "1                     0            0  ...              0              0   \n",
       "\n",
       "   TV_2002_Issue  TV_2003_Issue  Service_Centre  Product_Age  Purchased_from  \\\n",
       "0              2              0              10         60.0               2   \n",
       "1              0              0              12         10.0               0   \n",
       "\n",
       "   Call_details  Purpose  Fraud  \n",
       "0           0.5        1      1  \n",
       "1           1.0        1      0  \n",
       "\n",
       "[2 rows x 42 columns]"
      ]
     },
     "execution_count": 25,
     "metadata": {},
     "output_type": "execute_result"
    }
   ],
   "source": [
    "dataset2=pd.concat([data5, smote_df[\"Fraud\"]],axis=1)\n",
    "dataset2.head(2)"
   ]
  },
  {
   "cell_type": "code",
   "execution_count": 26,
   "metadata": {},
   "outputs": [],
   "source": [
    "x2=dataset2.iloc[:,0:41]\n",
    "y2=dataset2.iloc[:,-1]\n"
   ]
  },
  {
   "cell_type": "code",
   "execution_count": 27,
   "metadata": {},
   "outputs": [
    {
     "data": {
      "text/plain": [
       "((516, 71), (130, 71), (516,), (130,))"
      ]
     },
     "execution_count": 27,
     "metadata": {},
     "output_type": "execute_result"
    }
   ],
   "source": [
    "from sklearn.model_selection import train_test_split\n",
    "X_train, X_test, Y_train, Y_test=train_test_split(X,Y,test_size=0.2, random_state=0, stratify=Y)\n",
    "(X_train.shape, X_test.shape, Y_train.shape, Y_test.shape)"
   ]
  },
  {
   "cell_type": "code",
   "execution_count": 28,
   "metadata": {},
   "outputs": [
    {
     "data": {
      "text/plain": [
       "((516, 40), (130, 40), (516,), (130,))"
      ]
     },
     "execution_count": 28,
     "metadata": {},
     "output_type": "execute_result"
    }
   ],
   "source": [
    "x1_train, x1_test, y1_train, y1_test=train_test_split(x1,y1,test_size=0.2, random_state=0, stratify=y1)\n",
    "(x1_train.shape, x1_test.shape, y1_train.shape, y1_test.shape)"
   ]
  },
  {
   "cell_type": "code",
   "execution_count": 29,
   "metadata": {},
   "outputs": [
    {
     "data": {
      "text/plain": [
       "((516, 41), (130, 41), (516,), (130,))"
      ]
     },
     "execution_count": 29,
     "metadata": {},
     "output_type": "execute_result"
    }
   ],
   "source": [
    "x2_train, x2_test, y2_train, y2_test=train_test_split(x2,y2,test_size=0.2, random_state=0, stratify=y2)\n",
    "(x2_train.shape, x2_test.shape, y2_train.shape, y2_test.shape)"
   ]
  },
  {
   "cell_type": "markdown",
   "metadata": {},
   "source": [
    "# Model building"
   ]
  },
  {
   "cell_type": "markdown",
   "metadata": {},
   "source": [
    "## Decision Tree"
   ]
  },
  {
   "cell_type": "code",
   "execution_count": 30,
   "metadata": {},
   "outputs": [],
   "source": [
    "from sklearn import tree\n",
    "from sklearn.tree import DecisionTreeClassifier\n",
    "from sklearn.metrics import classification_report, accuracy_score\n",
    "from sklearn.model_selection import GridSearchCV, cross_val_score\n",
    "X=smote_df.iloc[:,0:71]\n",
    "Y=smote_df.iloc[:,-1]"
   ]
  },
  {
   "cell_type": "code",
   "execution_count": 31,
   "metadata": {},
   "outputs": [],
   "source": [
    "# for hyper parameter tunning Grid Search CV\n",
    "\n",
    "def gridsearchCV(X,Y):\n",
    "    param = {'criterion':[\"entropy\", \"gini\"], 'max_depth':np.arange(1,10,1)}\n",
    "    clf = GridSearchCV(DecisionTreeClassifier(), param, cv=5)\n",
    "    clf.fit(X,Y)\n",
    "    return clf.best_score_, clf.best_params_\n",
    "    "
   ]
  },
  {
   "cell_type": "code",
   "execution_count": 32,
   "metadata": {},
   "outputs": [
    {
     "data": {
      "text/plain": [
       "(0.8507841672890215, {'criterion': 'gini', 'max_depth': 7})"
      ]
     },
     "execution_count": 32,
     "metadata": {},
     "output_type": "execute_result"
    }
   ],
   "source": [
    "gridsearchCV(X_train,Y_train)"
   ]
  },
  {
   "cell_type": "code",
   "execution_count": 33,
   "metadata": {},
   "outputs": [],
   "source": [
    "def predict_model(model,X_train,X_test,Y_train,Y_test):\n",
    "    model.fit(X_train,Y_train)\n",
    "    \n",
    "    y_pred_train=model.predict(X_train)\n",
    "    accuracy=np.round(accuracy_score(Y_train, y_pred_train)*100,2)\n",
    "    print(\"Training accuracy {} %\".format(accuracy))\n",
    "    print(\" \")\n",
    "    print(classification_report(Y_train,y_pred_train))\n",
    "    \n",
    "    y_pred_test=model.predict(X_test)\n",
    "    accuracy=np.round(accuracy_score(Y_test, y_pred_test)*100,2)\n",
    "    print(\"Testing accuracy {} %\".format(accuracy))\n",
    "    print(\" \")\n",
    "    print(classification_report(Y_test,y_pred_test))\n",
    "    results=cross_val_score(model,X,Y, cv=10)\n",
    "    print(\"cross_val accuracy {} %\".format(results.mean()*100,2))\n",
    "    \n",
    "    "
   ]
  },
  {
   "cell_type": "markdown",
   "metadata": {},
   "source": [
    "### Mpdel accuracy with all features "
   ]
  },
  {
   "cell_type": "code",
   "execution_count": 34,
   "metadata": {},
   "outputs": [
    {
     "name": "stdout",
     "output_type": "stream",
     "text": [
      "Training accuracy 96.71 %\n",
      " \n",
      "              precision    recall  f1-score   support\n",
      "\n",
      "           0       0.95      0.98      0.97       258\n",
      "           1       0.98      0.95      0.97       258\n",
      "\n",
      "    accuracy                           0.97       516\n",
      "   macro avg       0.97      0.97      0.97       516\n",
      "weighted avg       0.97      0.97      0.97       516\n",
      "\n",
      "Testing accuracy 87.69 %\n",
      " \n",
      "              precision    recall  f1-score   support\n",
      "\n",
      "           0       0.88      0.88      0.88        65\n",
      "           1       0.88      0.88      0.88        65\n",
      "\n",
      "    accuracy                           0.88       130\n",
      "   macro avg       0.88      0.88      0.88       130\n",
      "weighted avg       0.88      0.88      0.88       130\n",
      "\n",
      "cross_val accuracy 83.74759615384615 %\n"
     ]
    }
   ],
   "source": [
    "model=DecisionTreeClassifier(criterion='gini', max_depth=8)\n",
    "predict_model(model,X_train,X_test,Y_train,Y_test)"
   ]
  },
  {
   "cell_type": "markdown",
   "metadata": {},
   "source": [
    "### Model accuracy by using RFE features"
   ]
  },
  {
   "cell_type": "code",
   "execution_count": 35,
   "metadata": {},
   "outputs": [
    {
     "data": {
      "text/plain": [
       "(0.8488237490664675, {'criterion': 'entropy', 'max_depth': 9})"
      ]
     },
     "execution_count": 35,
     "metadata": {},
     "output_type": "execute_result"
    }
   ],
   "source": [
    "x1=dataset.iloc[:,0:40]\n",
    "y1=dataset.iloc[:,-1]\n",
    "gridsearchCV(x1_train,y1_train)"
   ]
  },
  {
   "cell_type": "code",
   "execution_count": 36,
   "metadata": {},
   "outputs": [
    {
     "name": "stdout",
     "output_type": "stream",
     "text": [
      "Training accuracy 93.99 %\n",
      " \n",
      "              precision    recall  f1-score   support\n",
      "\n",
      "           0       0.92      0.97      0.94       258\n",
      "           1       0.96      0.91      0.94       258\n",
      "\n",
      "    accuracy                           0.94       516\n",
      "   macro avg       0.94      0.94      0.94       516\n",
      "weighted avg       0.94      0.94      0.94       516\n",
      "\n",
      "Testing accuracy 86.15 %\n",
      " \n",
      "              precision    recall  f1-score   support\n",
      "\n",
      "           0       0.87      0.85      0.86        65\n",
      "           1       0.85      0.88      0.86        65\n",
      "\n",
      "    accuracy                           0.86       130\n",
      "   macro avg       0.86      0.86      0.86       130\n",
      "weighted avg       0.86      0.86      0.86       130\n",
      "\n",
      "cross_val accuracy 84.06971153846155 %\n"
     ]
    }
   ],
   "source": [
    "model=DecisionTreeClassifier(criterion='entropy', max_depth=9)\n",
    "predict_model(model,x1_train,x1_test,y1_train,y1_test)"
   ]
  },
  {
   "cell_type": "markdown",
   "metadata": {},
   "source": [
    "### Model accuracy with Lasso Features"
   ]
  },
  {
   "cell_type": "code",
   "execution_count": 37,
   "metadata": {},
   "outputs": [
    {
     "data": {
      "text/plain": [
       "(0.8255974607916355, {'criterion': 'gini', 'max_depth': 9})"
      ]
     },
     "execution_count": 37,
     "metadata": {},
     "output_type": "execute_result"
    }
   ],
   "source": [
    "x2=dataset2.iloc[:,0:41]\n",
    "y2=dataset2.iloc[:,-1]\n",
    "\n",
    "gridsearchCV(x2_train,y2_train)"
   ]
  },
  {
   "cell_type": "code",
   "execution_count": 38,
   "metadata": {},
   "outputs": [
    {
     "name": "stdout",
     "output_type": "stream",
     "text": [
      "Training accuracy 96.9 %\n",
      " \n",
      "              precision    recall  f1-score   support\n",
      "\n",
      "           0       0.96      0.98      0.97       258\n",
      "           1       0.98      0.96      0.97       258\n",
      "\n",
      "    accuracy                           0.97       516\n",
      "   macro avg       0.97      0.97      0.97       516\n",
      "weighted avg       0.97      0.97      0.97       516\n",
      "\n",
      "Testing accuracy 89.23 %\n",
      " \n",
      "              precision    recall  f1-score   support\n",
      "\n",
      "           0       0.92      0.86      0.89        65\n",
      "           1       0.87      0.92      0.90        65\n",
      "\n",
      "    accuracy                           0.89       130\n",
      "   macro avg       0.89      0.89      0.89       130\n",
      "weighted avg       0.89      0.89      0.89       130\n",
      "\n",
      "cross_val accuracy 85.61538461538461 %\n"
     ]
    }
   ],
   "source": [
    "model=DecisionTreeClassifier(criterion='gini',max_depth=9)\n",
    "predict_model(model,x2_train,x2_test,y2_train,y2_test)"
   ]
  },
  {
   "cell_type": "markdown",
   "metadata": {},
   "source": [
    "# Random Forest"
   ]
  },
  {
   "cell_type": "code",
   "execution_count": 39,
   "metadata": {},
   "outputs": [],
   "source": [
    "from sklearn.model_selection import KFold\n",
    "from sklearn.ensemble import RandomForestClassifier"
   ]
  },
  {
   "cell_type": "markdown",
   "metadata": {},
   "source": [
    "### Model accuracy with all features"
   ]
  },
  {
   "cell_type": "code",
   "execution_count": 40,
   "metadata": {},
   "outputs": [],
   "source": [
    "X=smote_df.iloc[:,0:71]\n",
    "Y=smote_df.iloc[:,-1]\n"
   ]
  },
  {
   "cell_type": "code",
   "execution_count": 41,
   "metadata": {},
   "outputs": [
    {
     "name": "stdout",
     "output_type": "stream",
     "text": [
      "Training accuracy 97.87 %\n",
      " \n",
      "              precision    recall  f1-score   support\n",
      "\n",
      "           0       0.97      0.99      0.98       258\n",
      "           1       0.99      0.97      0.98       258\n",
      "\n",
      "    accuracy                           0.98       516\n",
      "   macro avg       0.98      0.98      0.98       516\n",
      "weighted avg       0.98      0.98      0.98       516\n",
      "\n",
      "Testing accuracy 95.38 %\n",
      " \n",
      "              precision    recall  f1-score   support\n",
      "\n",
      "           0       0.94      0.97      0.95        65\n",
      "           1       0.97      0.94      0.95        65\n",
      "\n",
      "    accuracy                           0.95       130\n",
      "   macro avg       0.95      0.95      0.95       130\n",
      "weighted avg       0.95      0.95      0.95       130\n",
      "\n",
      "cross_val accuracy 92.11778846153847 %\n"
     ]
    }
   ],
   "source": [
    "model=RandomForestClassifier(n_estimators=100, max_features=10)\n",
    "predict_model(model,X_train,X_test,Y_train,Y_test)"
   ]
  },
  {
   "cell_type": "markdown",
   "metadata": {},
   "source": [
    "### Model accuracy with RFE features"
   ]
  },
  {
   "cell_type": "code",
   "execution_count": 42,
   "metadata": {},
   "outputs": [],
   "source": [
    "x1=dataset.iloc[:,0:40]\n",
    "y1=dataset.iloc[:,-1]"
   ]
  },
  {
   "cell_type": "code",
   "execution_count": 43,
   "metadata": {},
   "outputs": [
    {
     "name": "stdout",
     "output_type": "stream",
     "text": [
      "Training accuracy 96.9 %\n",
      " \n",
      "              precision    recall  f1-score   support\n",
      "\n",
      "           0       0.96      0.98      0.97       258\n",
      "           1       0.98      0.96      0.97       258\n",
      "\n",
      "    accuracy                           0.97       516\n",
      "   macro avg       0.97      0.97      0.97       516\n",
      "weighted avg       0.97      0.97      0.97       516\n",
      "\n",
      "Testing accuracy 93.08 %\n",
      " \n",
      "              precision    recall  f1-score   support\n",
      "\n",
      "           0       0.92      0.94      0.93        65\n",
      "           1       0.94      0.92      0.93        65\n",
      "\n",
      "    accuracy                           0.93       130\n",
      "   macro avg       0.93      0.93      0.93       130\n",
      "weighted avg       0.93      0.93      0.93       130\n",
      "\n",
      "cross_val accuracy 91.95913461538461 %\n"
     ]
    }
   ],
   "source": [
    "model=RandomForestClassifier(n_estimators=100, max_features=10)\n",
    "predict_model(model,x1_train,x1_test,y1_train,y1_test)"
   ]
  },
  {
   "cell_type": "markdown",
   "metadata": {},
   "source": [
    "### Model accuray with Lasso features"
   ]
  },
  {
   "cell_type": "code",
   "execution_count": 44,
   "metadata": {},
   "outputs": [],
   "source": [
    "x2=dataset2.iloc[:,0:41]\n",
    "y2=dataset2.iloc[:,-1]\n"
   ]
  },
  {
   "cell_type": "code",
   "execution_count": 45,
   "metadata": {},
   "outputs": [
    {
     "name": "stdout",
     "output_type": "stream",
     "text": [
      "Training accuracy 97.87 %\n",
      " \n",
      "              precision    recall  f1-score   support\n",
      "\n",
      "           0       0.97      0.99      0.98       258\n",
      "           1       0.99      0.97      0.98       258\n",
      "\n",
      "    accuracy                           0.98       516\n",
      "   macro avg       0.98      0.98      0.98       516\n",
      "weighted avg       0.98      0.98      0.98       516\n",
      "\n",
      "Testing accuracy 93.08 %\n",
      " \n",
      "              precision    recall  f1-score   support\n",
      "\n",
      "           0       0.94      0.92      0.93        65\n",
      "           1       0.92      0.94      0.93        65\n",
      "\n",
      "    accuracy                           0.93       130\n",
      "   macro avg       0.93      0.93      0.93       130\n",
      "weighted avg       0.93      0.93      0.93       130\n",
      "\n",
      "cross_val accuracy 92.58413461538461 %\n"
     ]
    }
   ],
   "source": [
    "model=RandomForestClassifier(n_estimators=100, max_features=10)\n",
    "predict_model(model,x2_train,x2_test,y2_train,y2_test)"
   ]
  },
  {
   "cell_type": "code",
   "execution_count": null,
   "metadata": {},
   "outputs": [],
   "source": []
  }
 ],
 "metadata": {
  "_draft": {
   "nbviewer_url": "https://gist.github.com/8c7640fffbdcc0a9b9d09ced8d9d57fd"
  },
  "gist": {
   "data": {
    "description": "Desktop/Project/Untitled.ipynb",
    "public": true
   },
   "id": "8c7640fffbdcc0a9b9d09ced8d9d57fd"
  },
  "kernelspec": {
   "display_name": "Python 3",
   "language": "python",
   "name": "python3"
  },
  "language_info": {
   "codemirror_mode": {
    "name": "ipython",
    "version": 3
   },
   "file_extension": ".py",
   "mimetype": "text/x-python",
   "name": "python",
   "nbconvert_exporter": "python",
   "pygments_lexer": "ipython3",
   "version": "3.8.5"
  }
 },
 "nbformat": 4,
 "nbformat_minor": 4
}
